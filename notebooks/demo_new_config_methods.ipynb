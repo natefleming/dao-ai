{
 "cells": [
  {
   "cell_type": "markdown",
   "id": "592cb6d6",
   "metadata": {},
   "source": [
    "# Demo: New Configuration Methods\n",
    "\n",
    "This notebook demonstrates the new methods available in the `AppConfig` class for creating and deploying agents, as well as working with vector search."
   ]
  },
  {
   "cell_type": "code",
   "execution_count": null,
   "id": "31c4a2aa",
   "metadata": {},
   "outputs": [],
   "source": [
    "# Setup - Load configuration\n",
    "import sys\n",
    "sys.path.append('../')\n",
    "\n",
    "from retail_ai.config import AppConfig\n",
    "\n",
    "# Load configuration from file\n",
    "config = AppConfig.from_file(path=\"../config/model_config.yaml\")\n",
    "print(f\"Loaded configuration for: {config.app.name}\")"
   ]
  },
  {
   "cell_type": "markdown",
   "id": "4067f176",
   "metadata": {},
   "source": [
    "## Agent Creation and Deployment\n",
    "\n",
    "The new methods provide a streamlined way to create and deploy agents directly from the configuration."
   ]
  },
  {
   "cell_type": "code",
   "execution_count": null,
   "id": "b6ade438",
   "metadata": {},
   "outputs": [],
   "source": [
    "# Visualize the agent workflow\n",
    "config.display_graph()"
   ]
  },
  {
   "cell_type": "code",
   "execution_count": null,
   "id": "810a6fa6",
   "metadata": {},
   "outputs": [],
   "source": [
    "# Save the workflow diagram\n",
    "from pathlib import Path\n",
    "\n",
    "docs_path = Path(\"../docs\")\n",
    "image_path = docs_path / f\"{config.app.name}_architecture.png\"\n",
    "\n",
    "config.save_image(image_path)\n",
    "print(f\"Saved architecture diagram to: {image_path}\")"
   ]
  },
  {
   "cell_type": "code",
   "execution_count": null,
   "id": "54191906",
   "metadata": {},
   "outputs": [],
   "source": [
    "# Create the agent with MLflow\n",
    "# This packages the agent code and registers it as an MLflow model\n",
    "\n",
    "config.create_agent()\n",
    "print(\"✅ Agent created and registered in MLflow\")"
   ]
  },
  {
   "cell_type": "code",
   "execution_count": null,
   "id": "89b30dec",
   "metadata": {},
   "outputs": [],
   "source": [
    "# Deploy the agent to a serving endpoint\n",
    "# This creates a Databricks model serving endpoint\n",
    "\n",
    "config.deploy_agent()\n",
    "print(\"✅ Agent deployed to serving endpoint\")"
   ]
  },
  {
   "cell_type": "markdown",
   "id": "e6451793",
   "metadata": {},
   "source": [
    "## Vector Search Creation\n",
    "\n",
    "Create vector search endpoints and indexes from the configuration."
   ]
  },
  {
   "cell_type": "code",
   "execution_count": null,
   "id": "3ad41792",
   "metadata": {},
   "outputs": [],
   "source": [
    "# Create vector search infrastructure\n",
    "from retail_ai.config import VectorStoreModel\n",
    "\n",
    "vector_stores = config.resources.vector_stores\n",
    "\n",
    "for name, vector_store in vector_stores.items():\n",
    "    print(f\"Creating vector store: {name}\")\n",
    "    print(f\"  Endpoint: {vector_store.endpoint.name}\")\n",
    "    print(f\"  Index: {vector_store.index.full_name}\")\n",
    "    \n",
    "    # Create the vector search endpoint and index\n",
    "    vector_store.create()\n",
    "    print(f\"✅ Vector store '{name}' created successfully\")"
   ]
  },
  {
   "cell_type": "markdown",
   "id": "f995ed22",
   "metadata": {},
   "source": [
    "## Vector Search Usage\n",
    "\n",
    "Demonstrate how to use the created vector search indexes."
   ]
  },
  {
   "cell_type": "code",
   "execution_count": null,
   "id": "dc8115f4",
   "metadata": {},
   "outputs": [],
   "source": [
    "# Test vector search\n",
    "from databricks.vector_search.index import VectorSearchIndex\n",
    "from retail_ai.config import RetrieverModel\n",
    "\n",
    "question = \"What grills do you have in stock?\"\n",
    "\n",
    "for name, retriever in config.retrievers.items():\n",
    "    print(f\"\\nTesting retriever: {name}\")\n",
    "    \n",
    "    # Get the vector search index\n",
    "    index: VectorSearchIndex = retriever.vector_store.as_index()\n",
    "    \n",
    "    # Perform search\n",
    "    search_results = index.similarity_search(\n",
    "        query_text=question,\n",
    "        columns=retriever.columns,\n",
    "        **retriever.search_parameters.model_dump()\n",
    "    )\n",
    "    \n",
    "    # Display results\n",
    "    chunks = search_results.get('result', {}).get('data_array', [])\n",
    "    print(f\"Found {len(chunks)} relevant chunks\")\n",
    "    \n",
    "    if chunks:\n",
    "        print(\"Sample result:\")\n",
    "        print(f\"  {chunks[0][:200]}...\")"
   ]
  },
  {
   "cell_type": "code",
   "execution_count": null,
   "id": "3c676b6b",
   "metadata": {},
   "outputs": [],
   "source": [
    "# Alternative: Use LangChain DatabricksVectorSearch\n",
    "from databricks_langchain import DatabricksVectorSearch\n",
    "from langchain_core.documents import Document\n",
    "\n",
    "for name, retriever in config.retrievers.items():\n",
    "    print(f\"\\nUsing LangChain for retriever: {name}\")\n",
    "    \n",
    "    # Create LangChain vector store\n",
    "    vector_search = DatabricksVectorSearch(\n",
    "        endpoint=retriever.vector_store.endpoint.name,\n",
    "        index_name=retriever.vector_store.index.full_name,\n",
    "        columns=retriever.columns,\n",
    "        client_args={},\n",
    "    )\n",
    "    \n",
    "    # Search using LangChain interface\n",
    "    documents = vector_search.similarity_search(\n",
    "        query=question, \n",
    "        **retriever.search_parameters.model_dump()\n",
    "    )\n",
    "    \n",
    "    print(f\"Found {len(documents)} documents\")\n",
    "    if documents:\n",
    "        print(f\"Sample document: {documents[0].page_content[:150]}...\")"
   ]
  },
  {
   "cell_type": "markdown",
   "id": "b16676cb",
   "metadata": {},
   "source": [
    "## Monitoring\n",
    "\n",
    "Create monitoring for the deployed agent."
   ]
  },
  {
   "cell_type": "code",
   "execution_count": null,
   "id": "a0f05d48",
   "metadata": {},
   "outputs": [],
   "source": [
    "# Create monitoring for the agent\n",
    "config.create_monitor()\n",
    "print(\"✅ Agent monitoring configured\")"
   ]
  },
  {
   "cell_type": "markdown",
   "id": "951a2bd5",
   "metadata": {},
   "source": [
    "## Configuration Helper Methods\n",
    "\n",
    "The AppConfig class provides helper methods to find specific components."
   ]
  },
  {
   "cell_type": "code",
   "execution_count": null,
   "id": "59a984a5",
   "metadata": {},
   "outputs": [],
   "source": [
    "# Find all agents\n",
    "all_agents = config.find_agents()\n",
    "print(f\"Found {len(all_agents)} agents:\")\n",
    "for agent in all_agents:\n",
    "    print(f\"  - {agent.name}: {agent.description}\")"
   ]
  },
  {
   "cell_type": "code",
   "execution_count": null,
   "id": "91a9deb0",
   "metadata": {},
   "outputs": [],
   "source": [
    "# Find agents with specific criteria\n",
    "def has_vector_search_tool(agent):\n",
    "    return any(\"vector_search\" in tool.name.lower() for tool in agent.tools)\n",
    "\n",
    "vector_agents = config.find_agents(predicate=has_vector_search_tool)\n",
    "print(f\"Found {len(vector_agents)} agents with vector search:\")\n",
    "for agent in vector_agents:\n",
    "    print(f\"  - {agent.name}\")"
   ]
  },
  {
   "cell_type": "code",
   "execution_count": null,
   "id": "0f2220f5",
   "metadata": {},
   "outputs": [],
   "source": [
    "# Find all tools\n",
    "all_tools = config.find_tools()\n",
    "print(f\"Found {len(all_tools)} tools:\")\n",
    "for tool in all_tools:\n",
    "    print(f\"  - {tool.name}\")"
   ]
  },
  {
   "cell_type": "code",
   "execution_count": null,
   "id": "c103a7ab",
   "metadata": {},
   "outputs": [],
   "source": [
    "# Find all guardrails\n",
    "all_guardrails = config.find_guardrails()\n",
    "print(f\"Found {len(all_guardrails)} guardrails:\")\n",
    "for guardrail in all_guardrails:\n",
    "    print(f\"  - {guardrail.prompt[:50]}...\")"
   ]
  },
  {
   "cell_type": "markdown",
   "id": "281dc6d1",
   "metadata": {},
   "source": [
    "## Summary\n",
    "\n",
    "The new `AppConfig` methods provide:\n",
    "\n",
    "1. **Agent Lifecycle Management**:\n",
    "   - `create_agent()` - Package and register agent as MLflow model\n",
    "   - `deploy_agent()` - Deploy to Databricks serving endpoint\n",
    "   - `create_monitor()` - Set up monitoring and evaluation\n",
    "\n",
    "2. **Vector Search Management**:\n",
    "   - `vector_store.create()` - Create endpoints and indexes\n",
    "   - `vector_store.as_index()` - Get VectorSearchIndex for querying\n",
    "\n",
    "3. **Configuration Helpers**:\n",
    "   - `find_agents()` - Filter agents by criteria\n",
    "   - `find_tools()` - Filter tools by criteria\n",
    "   - `find_guardrails()` - Filter guardrails by criteria\n",
    "\n",
    "4. **Visualization**:\n",
    "   - `display_graph()` - Show workflow diagram\n",
    "   - `save_image()` - Export diagram to file\n",
    "\n",
    "These methods enable a complete workflow from configuration to deployment!"
   ]
  }
 ],
 "metadata": {
  "language_info": {
   "name": "python"
  }
 },
 "nbformat": 4,
 "nbformat_minor": 5
}
